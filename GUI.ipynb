{
 "cells": [
  {
   "cell_type": "raw",
   "id": "1a60498d",
   "metadata": {},
   "source": [
    "\"Install a pip package in the current Jupyter kernel\\n\",\n",
    "\"Memo to self: Install modules with 'sys.executable' and then restart kernel\""
   ]
  },
  {
   "cell_type": "code",
   "execution_count": 1,
   "id": "54d8fb59",
   "metadata": {},
   "outputs": [],
   "source": [
    "import sys\n",
    "#!{sys.executable} -m pip install --upgrade statsmodels"
   ]
  },
  {
   "cell_type": "code",
   "execution_count": 17,
   "id": "59372855",
   "metadata": {},
   "outputs": [],
   "source": [
    "\n",
    "#************** Start importing python modules\n",
    "import time\n",
    "import os # For\n",
    "import pandas as pd\n",
    "import numpy as np\n",
    "from functools import partial # For partial functions\n",
    "from scipy.interpolate import CubicSpline\n",
    "import statsmodels.api as sm\n",
    "import scipy.cluster.hierarchy as spc\n",
    "from matplotlib import pyplot as plt\n",
    "from math import sqrt\n",
    "#************ Start GUI modules\n",
    "import io\n",
    "import traitlets\n",
    "import ipywidgets as widgets\n",
    "from IPython.display import display\n",
    "from tkinter import Tk, filedialog\n",
    "#************ End GUI modules\n",
    "#************** End importing python modules\n",
    "# Start"
   ]
  },
  {
   "cell_type": "raw",
   "id": "1fba2777",
   "metadata": {},
   "source": [
    "Start importing data\n",
    "First ask the user to select the json file containing"
   ]
  },
  {
   "cell_type": "code",
   "execution_count": 3,
   "id": "2fbbcc32",
   "metadata": {},
   "outputs": [
    {
     "data": {
      "application/vnd.jupyter.widget-view+json": {
       "model_id": "8b25f24f08e1457fbd3f2a70159fb1e6",
       "version_major": 2,
       "version_minor": 0
      },
      "text/plain": [
       "FileUpload(value=(), accept='*.json', description='Upload')"
      ]
     },
     "metadata": {},
     "output_type": "display_data"
    }
   ],
   "source": [
    "btn_upload = widgets.FileUpload(\n",
    "    accept = '*.json',\n",
    "    multiple = False\n",
    ")\n",
    "display(btn_upload)"
   ]
  },
  {
   "cell_type": "raw",
   "id": "1ad6e6be",
   "metadata": {},
   "source": [
    "Extract the content of the json-file and convert the json to a data frame"
   ]
  },
  {
   "cell_type": "code",
   "execution_count": 4,
   "id": "4c064fe6",
   "metadata": {},
   "outputs": [
    {
     "name": "stdout",
     "output_type": "stream",
     "text": [
      "top part is                      series_0  series_1  series_2  series_3  series_4   \n",
      "2022-06-01 00:00:00       0.0 -0.012866       0.0  0.009272 -0.943774  \\\n",
      "2022-06-01 00:01:00       0.1  0.106740       0.1 -0.004306 -0.734072   \n",
      "2022-06-01 00:02:00       0.2  0.209939       0.2  0.005588  3.272961   \n",
      "2022-06-01 00:03:00       0.3  0.293082       0.3 -0.005641  0.832609   \n",
      "2022-06-01 00:04:00       0.4  0.391814       0.4 -0.006649 -2.225293   \n",
      "\n",
      "                     series_5  series_6  \n",
      "2022-06-01 00:00:00       NaN       NaN  \n",
      "2022-06-01 00:01:00       NaN       NaN  \n",
      "2022-06-01 00:02:00       NaN       NaN  \n",
      "2022-06-01 00:03:00     228.0       1.0  \n",
      "2022-06-01 00:04:00       NaN       1.0  \n",
      "bottom part is                      series_0    series_1    series_2  series_3  series_4   \n",
      "2022-06-02 23:55:00     287.5  287.498961  287.323143 -0.165455  2.017107  \\\n",
      "2022-06-02 23:56:00     287.6  287.599466  287.600000 -0.010588 -1.490229   \n",
      "2022-06-02 23:57:00     287.7  287.719646  287.700000 -0.005317 -0.667750   \n",
      "2022-06-02 23:58:00     287.8  287.790522  287.800000  0.005404 -3.185175   \n",
      "2022-06-02 23:59:00     287.9  287.910746  287.900000 -0.006259 -0.760504   \n",
      "\n",
      "                     series_5  series_6  \n",
      "2022-06-02 23:55:00    2375.0       3.0  \n",
      "2022-06-02 23:56:00       NaN       3.0  \n",
      "2022-06-02 23:57:00       NaN       3.0  \n",
      "2022-06-02 23:58:00       NaN       3.0  \n",
      "2022-06-02 23:59:00       NaN       3.0  \n"
     ]
    }
   ],
   "source": [
    "stringContent = btn_upload.value[0]['content'].tobytes().decode(\"utf-8\")\n",
    "df =  pd.read_json(io.StringIO(stringContent),orient = 'index')\n",
    "print(f'top part is {df.head()}')\n",
    "print(f'bottom part is {df.tail()}')"
   ]
  },
  {
   "cell_type": "raw",
   "id": "33c31454",
   "metadata": {},
   "source": [
    "End importing data"
   ]
  },
  {
   "cell_type": "raw",
   "id": "1e03ac96",
   "metadata": {},
   "source": [
    "We start by imputing missing values using cubic splines"
   ]
  },
  {
   "cell_type": "code",
   "execution_count": 18,
   "id": "5b1671fb",
   "metadata": {},
   "outputs": [],
   "source": [
    "# v needs to be a single column/vector\n",
    "def find_index_missing(v,include_nonmissing = True):\n",
    "    index_missing_values = [index for index in range(len(v)) if np.isnan(v[index])]\n",
    "    returnValue = index_missing_values\n",
    "    if(include_nonmissing):\n",
    "        index_nonmissing = [index for index in range(len(v)) if index not in index_missing_values]\n",
    "        returnValue = index_missing_values,index_nonmissing\n",
    "    #\n",
    "    return returnValue\n",
    "#\n",
    "# By default 'extrapolate' is set to False since the behavior of cubic splines outside of first lowest and\n",
    "# and last spline can sometimes be erratic\n",
    "def imputeCubicSpline(x,y,extrapolate = False):\n",
    "    index_missing_values,index_nonmissing = find_index_missing(\n",
    "        y,include_nonmissing=True)\n",
    "    #\n",
    "    if len(index_missing_values) > 0 :\n",
    "        cs = CubicSpline(x[index_nonmissing],y[index_nonmissing],extrapolate = extrapolate)\n",
    "        y = cs(x)\n",
    "    #    \n",
    "    return y\n",
    "#\n",
    "# If 'timeCol' is  None, then the index is assumed to be a timestamp. Oth\n",
    "# This function imputes missing values by fitting a cubic spline to the non-missing values.\n",
    "# If \"imputationCols\" is a string (single column),then it is converted to a list of length 1.\n",
    "# I 'imputationCols\" is None,then every column in the dataframe is imputed \n",
    "def df_impute_cubic(df,imputationCols=None,timeCols = None,crop = False,**kwargs):\n",
    "    if type(imputationCols) is str:\n",
    "        imputationCols = [imputationCols]\n",
    "    elif imputationCols is None:\n",
    "        imputationCols = list(df.columns)\n",
    "    #Datetimes need to be converted to unix time\n",
    "    listOfTimes = None\n",
    "    if type(timeCols) is str: \n",
    "        listOfTimes = df[timeCol].tolist()\n",
    "    elif timeCols is None:\n",
    "        listOfTimes = list(df.index)\n",
    "    #\n",
    "    timeValues =  np.asarray([ts.timestamp() for ts in listOfTimes])\n",
    "    #\n",
    "    imputer = partial(imputeCubicSpline,timeValues,**kwargs)\n",
    "    df[imputationCols] = df[imputationCols].apply(imputer)\n",
    "    #\n",
    "    if crop:\n",
    "        df = df.dropna()\n",
    "    return df\n",
    "#\n"
   ]
  },
  {
   "cell_type": "raw",
   "id": "cb33fcaf",
   "metadata": {},
   "source": [
    "Do the imputation"
   ]
  },
  {
   "cell_type": "code",
   "execution_count": 19,
   "id": "5eae73aa",
   "metadata": {},
   "outputs": [],
   "source": [
    "df = df_impute_cubic(df,crop=True)"
   ]
  },
  {
   "cell_type": "markdown",
   "id": "b22a12e9",
   "metadata": {},
   "source": [
    "For single numerical columns $x$ and $y$ (of equal length) we choose aboluste value of the correlation\n",
    "og $x$ and $y$ as our distance metrix i,e,"
   ]
  },
  {
   "cell_type": "markdown",
   "id": "0dea41a3",
   "metadata": {},
   "source": [
    "$$\n",
    "dist(x,y) = 1 - \\vert corr(x,y) \\rvert   .\n",
    "$$\n",
    "(1)"
   ]
  },
  {
   "cell_type": "markdown",
   "id": "c6e2e431",
   "metadata": {},
   "source": [
    "When either $x$ or $y$ have missing values we choose to calculate the correlation as the "
   ]
  },
  {
   "cell_type": "raw",
   "id": "4f0c01d9",
   "metadata": {},
   "source": [
    "The reason why we are using the absolute value of the ccrrelation is h\n",
    "\n",
    "For gorups of colums we choose method = 'complete' as our distance metric\n",
    " From documentation:\n",
    "    method='complete' assigns"
   ]
  },
  {
   "cell_type": "markdown",
   "id": "7f2271df",
   "metadata": {},
   "source": [
    "$$\n",
    " d(u, v) = \\max(dist(u[i],v[j]))  . \n",
    "$$  (2)"
   ]
  },
  {
   "cell_type": "raw",
   "id": "857f0306",
   "metadata": {},
   "source": [
    "for all points (in our case columns) `i` in cluster u and `j` in cluster `v`.,\n",
    "This is also known by the Farthest Point Algorithm or Voor Hees Algorithm."
   ]
  },
  {
   "cell_type": "raw",
   "id": "d7136b72",
   "metadata": {},
   "source": [
    "Description algorithm: \n",
    "\n",
    "1. Calculate (1) defined above for each pair of columns in the data frame (\"condensed values\")\n",
    "2. Do Agglomerative Hiearchical Clustering based\n"
   ]
  },
  {
   "cell_type": "raw",
   "id": "6fff6feb",
   "metadata": {},
   "source": [
    "We don't want to calculate the correlation of the same two vectors more than once.\n",
    "To avoid that we first calculate (1) defined above for each pair of columns in the data frame\n",
    "(\"condensed\"\n",
    "and\n",
    "the \n",
    "used that to\n",
    "and pass the \"condensed values\" (each distance"
   ]
  },
  {
   "cell_type": "code",
   "execution_count": 47,
   "id": "240654be",
   "metadata": {},
   "outputs": [],
   "source": [
    "def CCorDistance(u,v,max_lag = None):\n",
    "    # Use default value suggested in documentation of sm.tsa.stattools.acf\n",
    "    centered_u = u - np.mean(u) # Demean\n",
    "    centered_v = v - np.mean(v)  # Demean\n",
    "    cc_full  = np.correlate(a=centered_u, v=centered_v,mode = 'full')\n",
    "    cc_full = cc_full/ (len(u) * np.std(u) * np.std(v)) # Normalization\n",
    "    # Only negative lags are used\n",
    "    cc_non_positive_lags = cc_full[range(len(v)),] \n",
    "    squared_cc = [cc_non_positive_lags[ind,]**2 for ind in range(cc_non_positive_lags.shape[0])]    \n",
    "    # \n",
    "    D = sqrt((1.0-squared_cc[-1]) /sum(squared_cc[:-1]))\n",
    "    return D\n",
    "#\n",
    "def condensedSet(df):\n",
    "    listDists = []\n",
    "    # col1 ie every column except for the last one\n",
    "    # col2 ie every column except for the first\n",
    "    for i in range(df.shape[1]-1):\n",
    "        for j in range(i+1,df.shape[1]):\n",
    "            listDists.append(CCorDistance(df.iloc[:,i].to_numpy(),df.iloc[:,j].to_numpy()))\n",
    "    #\n",
    "    listDists = np.asarray(listDists)\n",
    "    return listDists\n",
    "#\n",
    "def clusterByCrossCorr(df,max_intra_dist = None):\n",
    "    print('Er nå inne i clusterByCrossCorr')\n",
    "    pdist_condensed = condensedSet(df)\n",
    "    # if max_intra_dist is not provided then st the max distance within the same group to the 20% quantile of all unique distances\n",
    "    if max_intra_dist is None:\n",
    "        max_intra_dist = np.quantile(pdist_condensed,0.2)\n",
    "    #\n",
    "    print(f'type(pdist_condensed) er {type(pdist_condensed)} og pdist_condensed.shape er {pdist_condensed.shape}')\n",
    "    print(f'max_intra_dist er {max_intra_dist}')\n",
    "    print('pdist_condensed er')\n",
    "    print(pdist_condensed)\n",
    "    linkage = spc.linkage(pdist_condensed, method='complete')\n",
    "    idx = spc.fcluster(linkage, max_intra_dist, 'distance')\n",
    "    # Put the cluster information into a data frame. The first column is the name of each column in the input 'df'.\n",
    "    # The second columns is an indicator that says which cluster group each column is assigned to by the clustering algorithm\n",
    "    groupingFrame = pd.DataFrame(list(df.columns),columns=['Series'])\n",
    "    groupingFrame['Group'] = list(idx)\n",
    "    #\n",
    "    clusterDict = {}\n",
    "    #\n",
    "    for group in list(set(list(idx))):\n",
    "        clusterDict['_'.join(['group',str(group)])] = [\n",
    "            list(df.columns)[col] for col in list(groupingFrame[groupingFrame['Group']== group].index)\n",
    "            ]\n",
    "        #\n",
    "    #\n",
    "    return linkage,clusterDict\n",
    "#"
   ]
  },
  {
   "cell_type": "code",
   "execution_count": 48,
   "id": "13e43c88",
   "metadata": {},
   "outputs": [
    {
     "name": "stdout",
     "output_type": "stream",
     "text": [
      "Er nå inne i clusterByCrossCorr\n",
      "type(pdist_condensed) er <class 'numpy.ndarray'> og pdist_condensed.shape er (21,)\n",
      "max_intra_dist er 0.5522145670160576\n",
      "pdist_condensed er\n",
      "[5.51152745e-06 3.43892418e-04 1.01662004e+01 2.64099058e+00\n",
      " 5.52214567e-01 1.12485465e+00 3.43907633e-04 1.01657290e+01\n",
      " 2.64099706e+00 5.52215090e-01 1.12486036e+00 9.36371247e+00\n",
      " 2.64029720e+00 5.52227870e-01 1.12490892e+00 3.45256371e-01\n",
      " 1.74282065e+00 1.68013211e+00 1.46002755e+00 1.36709347e+00\n",
      " 6.57015666e-01]\n"
     ]
    }
   ],
   "source": [
    "linkage,clusterGroups = clusterByCrossCorr(df)"
   ]
  },
  {
   "cell_type": "code",
   "execution_count": 49,
   "id": "a0c91bc6",
   "metadata": {},
   "outputs": [
    {
     "name": "stdout",
     "output_type": "stream",
     "text": [
      " The cluster groups outputted from the algorithm are \n",
      "{'group_1': ['series_3', 'series_4'], 'group_2': ['series_0', 'series_1', 'series_2'], 'group_3': ['series_5'], 'group_4': ['series_6']}\n"
     ]
    }
   ],
   "source": [
    "print(f' The cluster groups outputted from the algorithm are \\n{clusterGroups}')"
   ]
  },
  {
   "cell_type": "code",
   "execution_count": 50,
   "id": "47b16629",
   "metadata": {},
   "outputs": [
    {
     "data": {
      "image/png": "[encoded data removed]",
      "text/plain": [
       "<Figure size 432x288 with 1 Axes>"
      ]
     },
     "metadata": {
      "needs_background": "light"
     },
     "output_type": "display_data"
    }
   ],
   "source": [
    "spc.dendrogram(linkage)\n",
    "plt.xlabel(\"Indexes of points in node \")\n",
    "plt.show()"
   ]
  },
  {
   "cell_type": "raw",
   "id": "68491e53",
   "metadata": {},
   "source": [
    "Thee first grouping is of \"series_0','series_1' and 'series_2'. The distances between these 3 are so small that it is not visible in the dendrogram above."
   ]
  }
 ],
 "metadata": {
  "kernelspec": {
   "display_name": "Python 3 (ipykernel)",
   "language": "python",
   "name": "python3"
  },
  "language_info": {
   "codemirror_mode": {
    "name": "ipython",
    "version": 3
   },
   "file_extension": ".py",
   "mimetype": "text/x-python",
   "name": "python",
   "nbconvert_exporter": "python",
   "pygments_lexer": "ipython3",
   "version": "3.10.6"
  }
 },
 "nbformat": 4,
 "nbformat_minor": 5
}
